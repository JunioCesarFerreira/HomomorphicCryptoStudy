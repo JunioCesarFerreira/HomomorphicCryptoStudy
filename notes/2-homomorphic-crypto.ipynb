{
 "cells": [
  {
   "cell_type": "markdown",
   "metadata": {},
   "source": [
    "# Definição e Importância\n",
    "\n",
    "**O que é Criptografia Homomórfica?**\n",
    "\n",
    "Criptografia Homomórfica é uma forma avançada de criptografia que permite realizar operações diretamente sobre dados cifrados. Isso significa que, mesmo sem conhecer o conteúdo dos dados, podemos manipular os dados criptografados e obter um resultado cifrado, que, quando decifrado, é o mesmo que o resultado da operação sobre os dados originais.\n",
    "\n",
    "**Importância da Criptografia Homomórfica:**\n",
    "- **Privacidade na Computação em Nuvem:** Permite que dados sensíveis sejam processados por serviços de nuvem sem serem expostos.\n",
    "- **Segurança em Machine Learning:** Modelos podem ser treinados em dados criptografados, preservando a privacidade dos dados.\n",
    "- **Transações Seguras:** Permite cálculos financeiros e transações bancárias sobre dados cifrados, mantendo a segurança das informações."
   ]
  },
  {
   "cell_type": "markdown",
   "metadata": {},
   "source": [
    "# Tipos de Criptografia Homomórfica\n",
    "\n",
    "**Homomórfica Parcial:**\n",
    "- Permite um tipo específico de operação (adição ou multiplicação) ser realizada indefinidamente sobre os dados cifrados.\n",
    "\n",
    "**Homomórfica Parcialmente Funcional:**\n",
    "- Permite um número limitado de operações de adição e multiplicação antes que os dados precisem ser decifrados.\n",
    "\n",
    "**Homomórfica Total:**\n",
    "- Permite a execução de operações aritméticas arbitrárias sobre dados cifrados, incluindo adição e multiplicação.\n",
    "\n",
    "**Exemplos:**\n",
    "1. **Criptografia de Paillier (Homomórfica Parcial para Adição):**\n",
    "   - Permite somar dois números cifrados e o resultado, quando decifrado, é a soma dos números originais.\n",
    "2. **Sistema de Criptografia de ElGamal (Homomórfica Parcial para Multiplicação):**\n",
    "   - Permite multiplicar dois números cifrados e o resultado, quando decifrado, é o produto dos números originais.\n",
    "3. **Criptografia Homomórfica Total de Gentry:**\n",
    "   - Primeira implementação prática de criptografia homomórfica total."
   ]
  },
  {
   "cell_type": "markdown",
   "metadata": {},
   "source": [
    "# Exemplos Práticos"
   ]
  },
  {
   "cell_type": "markdown",
   "metadata": {},
   "source": [
    "1. Instalação da Biblioteca:"
   ]
  },
  {
   "cell_type": "code",
   "execution_count": 1,
   "metadata": {},
   "outputs": [
    {
     "name": "stdout",
     "output_type": "stream",
     "text": [
      "Collecting phe\n",
      "  Downloading phe-1.5.0-py2.py3-none-any.whl.metadata (3.8 kB)\n",
      "Downloading phe-1.5.0-py2.py3-none-any.whl (53 kB)\n",
      "   ---------------------------------------- 0.0/53.7 kB ? eta -:--:--\n",
      "   ------- -------------------------------- 10.2/53.7 kB ? eta -:--:--\n",
      "   --------------- ------------------------ 20.5/53.7 kB 217.9 kB/s eta 0:00:01\n",
      "   ---------------------------------------- 53.7/53.7 kB 395.4 kB/s eta 0:00:00\n",
      "Installing collected packages: phe\n",
      "Successfully installed phe-1.5.0\n"
     ]
    },
    {
     "name": "stderr",
     "output_type": "stream",
     "text": [
      "\n",
      "[notice] A new release of pip is available: 24.0 -> 24.1.2\n",
      "[notice] To update, run: python.exe -m pip install --upgrade pip\n"
     ]
    }
   ],
   "source": [
    "!pip install phe"
   ]
  },
  {
   "cell_type": "markdown",
   "metadata": {},
   "source": [
    "2. Exemplo de Criptografia de Paillier"
   ]
  },
  {
   "cell_type": "code",
   "execution_count": 6,
   "metadata": {},
   "outputs": [
    {
     "name": "stdout",
     "output_type": "stream",
     "text": [
      "6320038817980200577246320908536292527437681556562802597516650743508835972593493424514632921934278168119309466219928582575085068985690284224383506198192840549307660350409546402860310172544142342415297123448801065515611523501878422481963607375981202880800077157838762091647454929475266342657716439597245137779308410777772236161524353799350610940598215179606109217167824066789699328895693329114684509855689523811287414890461834854333776414324586055583594014892739797177916894021316183780696222060462251547559439231470734342200663534877657187168320348674626466309401630095366389960352689198654527204159887414527252664895839610571655404926578645764773723630609941287613299455723288364380735605948560953059411343427024110549210779885279802991186408534745782959249458125165926608801032032098210419745207064927529376306470271876483035188160435545835457632601849112892994575588537511468185250446918555617261560999844927270467461482230244472764013716574777925646457500666050397620748637774412228758945452822287007443632890141947212347373668092889364287717763173008716921206039757304548023073101867034873393518173384898760360959965062764034262044891170588799898764195842344283088698198676138900664334032491098595092129289772942231610593626263210100086991105313299210962340828208532128720421608943607806629645455583136721938266320443877593617045803676902577295024532582397966551143329647599483575390700096361486718521230655261643626747850667153732579704835341437874853095883650094731726515159257461829370461764943277311299904227762749423631879591331362631523257949685929446936318386630257364089803797007920858244353059732496481630287510735771494424871185822452842335198608438928806288027716746323400201829929336204922563747808384232454181040155598277591372095533935460213192619581051494486343862824226134956274330733909402060911331978934225549485278778520113229\n",
      "14858332760358234720835080135388446336955250063432042262317356019084332765758809067824639863543915425396282327919621889032345178053681386603545675042990578215422139092432870091119029417347635665774338600473351730638230045609188878745467345564594432535302812354693425122392127190045035266733549764114033495002222892647809023211081966516312726533900318402780103992170752148664698135040304083227387796890682522211489019646092346730886955967645377076282595444335332232128566184038539637389721045227490200901199656675966607223348475511029783085874799689973348871121095939469370736570837133618030365138372310047374757134030149351289711247895798361880348570807073079078469975087876312599621263083438059025457796819764485908170979250869540310309961513003968307032130944626779280146121612304257321415296834396609919224214687013882514873527460450808474843173169944469810864857688535734515598650557646499080678498114196365178871242169171574604947308154360241897817904471556916161421819386591443586103936753622652743557049777046114697349638427480902293698311279154122139774152709054277184349077541157866847479105036651712477254412494346641986186052096324411731297215177346342808229947131020481461150748993922718185084238783510598443290348709413971781147403419486994743342934233492239868876054582212097631725041462400335542909235762275530052898947026572667687834662076014220715988380790406529835245099990379121489054357681404134550381641568763879473281830273929515820559864162418113910658411841006805516586651941505376077169234257414680118601342326152563702666216019854972666023363379149436959539348301115703985943694828772502865809335416531780383537919357113125358590904709645330465453913112175485209803338210129976416836027585451750603637475498595839228848363043266051552414628130846499766902215295883350969901085260052666784128224719326843709085124369275395163\n",
      "8043936061137277241300322624974623332000451049621973232792013965671833684640742220822035711926028033490679224931787026477840486760916749517562201692302003623345751528045247398186230636353552152926296515544046980966244017219556506161108849249265492876372588026810096713499818139042113254840083255210470251296531689281690370127552974883335502535190367105149433862667003535825870147723262407591936389678896046950263827702575155202437606033554782860319294956675284151039475077768596363854089797348168343354278389106785674687964986881889793891727068790453326957911840773809100657238264154798221895442203815638456339634048214608447239332041544912843727586085573106435968585049341379980653503064414755277788475111846576118369292061723003083014320452520465346260659126286811556406783998296234957197398725264211163871838952333380414741213724763503602886235719226958605346017353601712303366750803275193803395184198932135230013767768247907733268084647535566797311883181296605173994325305096606759360220263150914428209895526145902135986549339240365029555140090236654434382364297090726854366982997705271890338031280237525849359969511737440604191036022806551291406708783408823149970958443309840828119806246969037391336400485323420304946443282237555544776606993932187946391275250539094762630757671224252425117812860421635673463309792145250086406042379346907523911883772355782295916004673871212757911143581771042727446262782673545487602464503250111843357121489985233020921650318408175421825997559332029474723745304262593384039625130735731747504351384522112538637544887935995952786768598911857125227460795710876985604614634540627415850831839134311161609414444866062413375443894296115798219748326626351129933139820818429037417874055681452904962434813601045299208672129191215097563123511327513904123132704120135430278244676839841381968391777990052722154105795243918949\n",
      "A soma de 5 e 10 é: 15\n"
     ]
    }
   ],
   "source": [
    "from phe import paillier\n",
    "\n",
    "# Geração de chave pública e privada\n",
    "public_key, private_key = paillier.generate_paillier_keypair()\n",
    "\n",
    "# Números a serem criptografados\n",
    "num1 = 5\n",
    "num2 = 10\n",
    "\n",
    "# Criptografando os números\n",
    "enc_num1 = public_key.encrypt(num1)\n",
    "enc_num2 = public_key.encrypt(num2)\n",
    "\n",
    "# Realizando operação (adição) sobre os números criptografados\n",
    "enc_sum = enc_num1 + enc_num2\n",
    "\n",
    "# Convertendo os valores criptografados para strings para exibição\n",
    "enc_num1_str = enc_num1.ciphertext()\n",
    "enc_num2_str = enc_num2.ciphertext()\n",
    "enc_sum_str = enc_sum.ciphertext()\n",
    "\n",
    "print(enc_num1_str)\n",
    "print(enc_num2_str)\n",
    "print(enc_sum_str)\n",
    "\n",
    "# Decifrando o resultado\n",
    "dec_sum = private_key.decrypt(enc_sum)\n",
    "\n",
    "print(f\"A soma de {num1} e {num2} é: {dec_sum}\")"
   ]
  },
  {
   "cell_type": "markdown",
   "metadata": {},
   "source": [
    "3. Exemplo de Criptografia de ElGamal:"
   ]
  },
  {
   "cell_type": "code",
   "execution_count": 8,
   "metadata": {},
   "outputs": [
    {
     "name": "stdout",
     "output_type": "stream",
     "text": [
      "Collecting pycryptodome"
     ]
    },
    {
     "name": "stderr",
     "output_type": "stream",
     "text": [
      "\n",
      "[notice] A new release of pip is available: 24.0 -> 24.1.2\n",
      "[notice] To update, run: python.exe -m pip install --upgrade pip\n"
     ]
    },
    {
     "name": "stdout",
     "output_type": "stream",
     "text": [
      "\n",
      "  Downloading pycryptodome-3.20.0-cp35-abi3-win_amd64.whl.metadata (3.4 kB)\n",
      "Downloading pycryptodome-3.20.0-cp35-abi3-win_amd64.whl (1.8 MB)\n",
      "   ---------------------------------------- 0.0/1.8 MB ? eta -:--:--\n",
      "   ---------------------------------------- 0.0/1.8 MB ? eta -:--:--\n",
      "   ---------------------------------------- 0.0/1.8 MB 217.9 kB/s eta 0:00:08\n",
      "    --------------------------------------- 0.0/1.8 MB 325.1 kB/s eta 0:00:06\n",
      "   - -------------------------------------- 0.1/1.8 MB 409.6 kB/s eta 0:00:05\n",
      "   ---- ----------------------------------- 0.2/1.8 MB 926.0 kB/s eta 0:00:02\n",
      "   -------- ------------------------------- 0.4/1.8 MB 1.5 MB/s eta 0:00:01\n",
      "   ------------ --------------------------- 0.5/1.8 MB 1.9 MB/s eta 0:00:01\n",
      "   ----------------- ---------------------- 0.8/1.8 MB 2.4 MB/s eta 0:00:01\n",
      "   ----------------------- ---------------- 1.1/1.8 MB 2.8 MB/s eta 0:00:01\n",
      "   ------------------------------ --------- 1.3/1.8 MB 3.1 MB/s eta 0:00:01\n",
      "   ------------------------------------- -- 1.6/1.8 MB 3.4 MB/s eta 0:00:01\n",
      "   ---------------------------------------- 1.8/1.8 MB 3.5 MB/s eta 0:00:00\n",
      "Installing collected packages: pycryptodome\n",
      "Successfully installed pycryptodome-3.20.0\n"
     ]
    }
   ],
   "source": [
    "!pip install pycryptodome"
   ]
  },
  {
   "cell_type": "code",
   "execution_count": 10,
   "metadata": {},
   "outputs": [
    {
     "name": "stdout",
     "output_type": "stream",
     "text": [
      "O número original é: 15\n",
      "O número decifrado é: 15\n"
     ]
    }
   ],
   "source": [
    "from Crypto.Util import number\n",
    "from Crypto.Random import random\n",
    "\n",
    "# Parâmetros do sistema\n",
    "p = number.getPrime(256)\n",
    "g = random.randint(1, p-1)\n",
    "\n",
    "# Chave privada e pública\n",
    "private_key = random.randint(1, p-2)\n",
    "public_key = pow(g, private_key, p)\n",
    "\n",
    "def encrypt(m, g, p, public_key):\n",
    "    y = random.randint(1, p-2)\n",
    "    c1 = pow(g, y, p)\n",
    "    c2 = (m * pow(public_key, y, p)) % p\n",
    "    return c1, c2\n",
    "\n",
    "def decrypt(c1, c2, private_key, p):\n",
    "    s = pow(c1, private_key, p)\n",
    "    s_inv = number.inverse(s, p)\n",
    "    m = (c2 * s_inv) % p\n",
    "    return m\n",
    "\n",
    "# Número a ser criptografado\n",
    "m = 15\n",
    "\n",
    "# Criptografando o número\n",
    "c1, c2 = encrypt(m, g, p, public_key)\n",
    "\n",
    "# Decifrando o número\n",
    "m_dec = decrypt(c1, c2, private_key, p)\n",
    "\n",
    "print(f\"O número original é: {m}\")\n",
    "print(f\"O número decifrado é: {m_dec}\")"
   ]
  },
  {
   "cell_type": "markdown",
   "metadata": {},
   "source": []
  }
 ],
 "metadata": {
  "kernelspec": {
   "display_name": "Python 3",
   "language": "python",
   "name": "python3"
  },
  "language_info": {
   "codemirror_mode": {
    "name": "ipython",
    "version": 3
   },
   "file_extension": ".py",
   "mimetype": "text/x-python",
   "name": "python",
   "nbconvert_exporter": "python",
   "pygments_lexer": "ipython3",
   "version": "3.12.1"
  }
 },
 "nbformat": 4,
 "nbformat_minor": 2
}
